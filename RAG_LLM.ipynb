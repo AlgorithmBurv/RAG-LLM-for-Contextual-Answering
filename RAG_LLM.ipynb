{
  "nbformat": 4,
  "nbformat_minor": 0,
  "metadata": {
    "colab": {
      "provenance": [],
      "authorship_tag": "ABX9TyMIdN3+Uzz3lRI24vTzX7Zy",
      "include_colab_link": true
    },
    "kernelspec": {
      "name": "python3",
      "display_name": "Python 3"
    },
    "language_info": {
      "name": "python"
    }
  },
  "cells": [
    {
      "cell_type": "markdown",
      "metadata": {
        "id": "view-in-github",
        "colab_type": "text"
      },
      "source": [
        "<a href=\"https://colab.research.google.com/github/AlgorithmBurv/RAG-LLM-for-Contextual-Answering/blob/main/RAG_LLM.ipynb\" target=\"_parent\"><img src=\"https://colab.research.google.com/assets/colab-badge.svg\" alt=\"Open In Colab\"/></a>"
      ]
    },
    {
      "cell_type": "code",
      "source": [
        "!pip install -U -q google-generativeai langchain langchain-google-genai langchain_community pypdf chromadb"
      ],
      "metadata": {
        "id": "8KTDjYhsoNvz"
      },
      "execution_count": null,
      "outputs": []
    },
    {
      "cell_type": "markdown",
      "source": [
        "# Libararies"
      ],
      "metadata": {
        "id": "7fDthGMnoTL3"
      }
    },
    {
      "cell_type": "code",
      "source": [
        "from google.colab import userdata\n",
        "from langchain_google_genai import ChatGoogleGenerativeAI\n",
        "from langchain_text_splitters import NLTKTextSplitter\n",
        "from langchain_google_genai import GoogleGenerativeAIEmbeddings\n",
        "from langchain_community.vectorstores import Chroma\n",
        "from IPython.display import Markdown as md\n",
        "from langchain_community.document_loaders import PyPDFLoader\n"
      ],
      "metadata": {
        "id": "aLG0axdRoXuM"
      },
      "execution_count": null,
      "outputs": []
    },
    {
      "cell_type": "code",
      "source": [
        "import nltk\n",
        "nltk.download('punkt_tab')"
      ],
      "metadata": {
        "colab": {
          "base_uri": "https://localhost:8080/"
        },
        "id": "Ph1ijDjPoc88",
        "outputId": "05ca6f8c-fe2c-47e2-eaed-6e283609f16a"
      },
      "execution_count": null,
      "outputs": [
        {
          "output_type": "stream",
          "name": "stderr",
          "text": [
            "[nltk_data] Downloading package punkt_tab to /root/nltk_data...\n",
            "[nltk_data]   Package punkt_tab is already up-to-date!\n"
          ]
        },
        {
          "output_type": "execute_result",
          "data": {
            "text/plain": [
              "True"
            ]
          },
          "metadata": {},
          "execution_count": 93
        }
      ]
    },
    {
      "cell_type": "markdown",
      "source": [
        "# Load Teks"
      ],
      "metadata": {
        "id": "qLlOsAsfsV8M"
      }
    },
    {
      "cell_type": "code",
      "source": [
        "!curl -o /content/Faktor_Risiko_Dominan_Penyakit_Jantung_Koroner_di_Indonesia.pdf \"https://d1wqtxts1xzle7.cloudfront.net/99914958/59f6a3929ef42f8dc30e6d8d957f6321b56a-libre.pdf?1678951855=&response-content-disposition=inline%3B+filename%3DFaktor_Risiko_Dominan_Penyakit_Jantung_K.pdf&Expires=1753448446&Signature=Vypd6m5BCvgk0lJwNI0FaEpyNFZhK3z0bvSBJJl6S~pj2SYbwRHCGTzMTZhA-zk1SM6sntxgsgvL5eCGakINmmTASuj236u2Xv--hZN-Qeq8FhxXSvkZgVf6PmpHfn5CSCg4dU8AIkTiEK55tQsRQJQrOvIwdnM3QwvT6xAgvnrx3LS04-CUTOEAsHOh3cvPHlyjQSbJ8JKPu9lMVS0XyYhds~39dEYVHTlBvcuy-JmCZHn8wcopUDUK7PbpVmRp1MWVFH5Te0QwvzqWsZb47~8o88tH19FW8tXQcZdSXNe12zmM044sJYKzAMapy7k3XoBWRLhqk9hcY-4SmmAkmA__&Key-Pair-Id=APKAJLOHF5GGSLRBV4ZA\"\n"
      ],
      "metadata": {
        "id": "bATPA7OBrClR",
        "colab": {
          "base_uri": "https://localhost:8080/"
        },
        "outputId": "3906d9ba-d332-4172-ffb5-ad50850ab419"
      },
      "execution_count": null,
      "outputs": [
        {
          "output_type": "stream",
          "name": "stdout",
          "text": [
            "  % Total    % Received % Xferd  Average Speed   Time    Time     Time  Current\n",
            "                                 Dload  Upload   Total   Spent    Left  Speed\n",
            "\r  0     0    0     0    0     0      0      0 --:--:-- --:--:-- --:--:--     0\r100  220k  100  220k    0     0  1448k      0 --:--:-- --:--:-- --:--:-- 1450k\n"
          ]
        }
      ]
    },
    {
      "cell_type": "code",
      "source": [
        "loader = PyPDFLoader(\"/content/Faktor_Risiko_Dominan_Penyakit_Jantung_Koroner_di_Indonesia.pdf\")\n",
        "pages = loader.load_and_split()"
      ],
      "metadata": {
        "id": "XRFn7fQrrOz1"
      },
      "execution_count": null,
      "outputs": []
    },
    {
      "cell_type": "code",
      "source": [
        "md(pages[0].page_content)"
      ],
      "metadata": {
        "colab": {
          "base_uri": "https://localhost:8080/",
          "height": 359
        },
        "id": "NNHFe_T3rxxU",
        "outputId": "0d466aa2-da70-4674-d652-f3a325e352e5"
      },
      "execution_count": null,
      "outputs": [
        {
          "output_type": "execute_result",
          "data": {
            "text/plain": [
              "<IPython.core.display.Markdown object>"
            ],
            "text/markdown": "Faktor Risiko Dominan Penyakit Jantung Koroner di Indonesia ... (Lannywati Ghani, Made Dewi Susilawati dan Harli Novriani )\n153\nFaktor Risiko Dominan Penyakit Jantung Koroner di Indonesia\nDOMINANT RISK FACTORS OF CORONARY HEART DISEASE IN INDONESIA\nLannywati Ghani, Made Dewi Susilawati dan Harli Novriani\n  Pusat Penelitian dan Pengembangan Sumber Daya dan Pelayanan Kesehatan\nJl. Percetakan Negara No. 29 Jakarta 10560, Indonesia\nE - mail: lannywatighani@yahoo.com\n        Submitted : 5-9-2016,    Revised : 13-9-2016,    Revised : 14-9-2016,    Accepted : 23-9-2016\nAbstract\nCoronary heart disease is still a major cause of mortality and morbidity with great socio-economic \nimpact like stroke. Coronary heart disease is preventable by early detection and risk factors control. \nThis study aimed to identify dominant risk factors of coronary heart disease in Indonesia using \nNational Basic Health Survey 2013 data. Data were analysed using SPSS 16 with complex sample. A \ntotal of 722.329 respondent age ≥15 years old, consisting of 347.823 male and 374.506 female were \nanalyzed. Prevalence of coronary heart disease was 1.5 % (95% CI 1.4–1.5). Several factors were \nidentified as risk factors of coronary heart disease such as hypertension, mental disorder, diabetes \nmellitus, stroke, age ≥ 40 years old, smoking, female, low level of education, central obesity, and low \nlevel of social economic status with adjusted odds ratio range from 1.30 to 10.09. The dominant risk \nfactors were hypertension, mental disorder, and diabetes mellitus. Promotion of healthy lifestyle and \nearly detection since early age need to be enhanced to minimize the risk factors as well as coronary \nheart disease.\nKey words : coronary heart disease, risk factor, basic health survey 2013.\nAbstrak\nPenyakit Jantung Koroner (PJK) masih merupakan penyebab kematian dan kesakitan utama yang \nberdampak secara sosioekonomi seperti juga stroke. Penyakit ini dapat dicegah dengan deteksi dini \ndan pengendalian faktor risiko. Penelitian ini bertujuan untuk mendapatkan faktor risiko dominan \npenderita jantung koroner di Indonesia dengan  menggunakan data sekunder dari Survei Riset \nKesehatan Dasar Indonesia tahun 2013. Analisis data menggunakan SPSS 16 dengan c omplex \nsample.  Dari 722.329 responden usia ≥ 15 tahun didapat prevalensi penyakit jantung koroner sebesar \n1,5 % (95 % CI 1,4–1,5). Hipertensi, gangguan mental emosional, diabetes melitus, stroke, usia ≥ \n40 tahun, kebiasaan merokok, jenis kelamin perempuan, tingkat pendidikan rendah, obesitas sentral, \ndan status sosial ekonomi rendah merupakan faktor risiko PJK dengan rasio odd berkisar dari 1,30 \nhingga 10,09. Faktor risiko dominan penyakit jantung koroner adalah hipertensi, gangguan mental \nemosional, dan diabetes melitus. Upaya promotif dan deteksi dini faktor risiko sejak usia dini perlu \nditingkatkan untuk memperkecil kejadian faktor risiko maupun penyakit jantung koroner.\nKata kunci : penyakit jantung koroner, faktor risiko, Riskesdas 2013."
          },
          "metadata": {},
          "execution_count": 96
        }
      ]
    },
    {
      "cell_type": "markdown",
      "source": [
        "# Model LLM\n"
      ],
      "metadata": {
        "id": "9G-8UvpTsRAb"
      }
    },
    {
      "cell_type": "code",
      "source": [
        "api_key = userdata.get('API_KEY')\n",
        "chat_model = ChatGoogleGenerativeAI(google_api_key=api_key,\n",
        "                                    model='gemini-2.5-flash',\n",
        "                                    temperature=0.9)"
      ],
      "metadata": {
        "id": "jIzGEhQ5sSjQ"
      },
      "execution_count": null,
      "outputs": []
    },
    {
      "cell_type": "markdown",
      "source": [
        "# Chunking"
      ],
      "metadata": {
        "id": "tDPCec2asaow"
      }
    },
    {
      "cell_type": "code",
      "source": [
        "from langchain_text_splitters import NLTKTextSplitter\n",
        "\n",
        "text_splitter = NLTKTextSplitter(\n",
        "    chunk_size=1000,\n",
        "    chunk_overlap=100\n",
        ")\n",
        "\n",
        "\n",
        "chunks= text_splitter.split_documents(pages)\n",
        "print(len(chunks))"
      ],
      "metadata": {
        "colab": {
          "base_uri": "https://localhost:8080/"
        },
        "id": "h7USa99os-FO",
        "outputId": "c3f95090-c65c-4fb9-f78c-ac0ad1d3c21e"
      },
      "execution_count": null,
      "outputs": [
        {
          "output_type": "stream",
          "name": "stderr",
          "text": [
            "WARNING:langchain_text_splitters.base:Created a chunk of size 1511, which is longer than the specified 1000\n",
            "WARNING:langchain_text_splitters.base:Created a chunk of size 1407, which is longer than the specified 1000\n"
          ]
        },
        {
          "output_type": "stream",
          "name": "stdout",
          "text": [
            "53\n"
          ]
        }
      ]
    },
    {
      "cell_type": "code",
      "source": [
        "chunks[0].page_content"
      ],
      "metadata": {
        "colab": {
          "base_uri": "https://localhost:8080/",
          "height": 140
        },
        "id": "uUVXEzqGt1wu",
        "outputId": "3f7beded-7ab0-4a26-97b9-a86ad67c65ee"
      },
      "execution_count": null,
      "outputs": [
        {
          "output_type": "execute_result",
          "data": {
            "text/plain": [
              "'Faktor Risiko Dominan Penyakit Jantung Koroner di Indonesia ... (Lannywati Ghani, Made Dewi Susilawati dan Harli Novriani )\\n153\\nFaktor Risiko Dominan Penyakit Jantung Koroner di Indonesia\\nDOMINANT RISK FACTORS OF CORONARY HEART DISEASE IN INDONESIA\\nLannywati Ghani, Made Dewi Susilawati dan Harli Novriani\\n  Pusat Penelitian dan Pengembangan Sumber Daya dan Pelayanan Kesehatan\\nJl.\\n\\nPercetakan Negara No.\\n\\n29 Jakarta 10560, Indonesia\\nE - mail: lannywatighani@yahoo.com\\n        Submitted : 5-9-2016,    Revised : 13-9-2016,    Revised : 14-9-2016,    Accepted : 23-9-2016\\nAbstract\\nCoronary heart disease is still a major cause of mortality and morbidity with great socio-economic \\nimpact like stroke.\\n\\nCoronary heart disease is preventable by early detection and risk factors control.\\n\\nThis study aimed to identify dominant risk factors of coronary heart disease in Indonesia using \\nNational Basic Health Survey 2013 data.\\n\\nData were analysed using SPSS 16 with complex sample.'"
            ],
            "application/vnd.google.colaboratory.intrinsic+json": {
              "type": "string"
            }
          },
          "metadata": {},
          "execution_count": 99
        }
      ]
    },
    {
      "cell_type": "markdown",
      "source": [
        "# Embedding"
      ],
      "metadata": {
        "id": "z_aSEA5xuG5p"
      }
    },
    {
      "cell_type": "code",
      "source": [
        "embedding_model= GoogleGenerativeAIEmbeddings(google_api_key=api_key,model=\"models/embedding-001\")"
      ],
      "metadata": {
        "id": "B9Op9jTguITa"
      },
      "execution_count": null,
      "outputs": []
    },
    {
      "cell_type": "code",
      "source": [
        "embedding_model"
      ],
      "metadata": {
        "colab": {
          "base_uri": "https://localhost:8080/"
        },
        "id": "C9aBzTOMuKmB",
        "outputId": "8200fab9-cefc-4616-c728-0ee1cb9d52cd"
      },
      "execution_count": null,
      "outputs": [
        {
          "output_type": "execute_result",
          "data": {
            "text/plain": [
              "GoogleGenerativeAIEmbeddings(client=<google.ai.generativelanguage_v1beta.services.generative_service.client.GenerativeServiceClient object at 0x7c14635d2bd0>, model='models/embedding-001', task_type=None, google_api_key=SecretStr('**********'), credentials=None, client_options=None, transport=None, request_options=None)"
            ]
          },
          "metadata": {},
          "execution_count": 101
        }
      ]
    },
    {
      "cell_type": "markdown",
      "source": [
        "# Vector Databases"
      ],
      "metadata": {
        "id": "wTKe3aw4uacn"
      }
    },
    {
      "cell_type": "code",
      "source": [
        "db = Chroma.from_documents(chunks, embedding_model, persist_directory='./chroma_db_')\n",
        "db.persist()"
      ],
      "metadata": {
        "id": "YgNNh3sZueP3"
      },
      "execution_count": null,
      "outputs": []
    },
    {
      "cell_type": "code",
      "source": [
        "db_connection = Chroma(persist_directory='./chroma_db_', embedding_function=embedding_model)"
      ],
      "metadata": {
        "id": "h9X_6k6-uffY"
      },
      "execution_count": null,
      "outputs": []
    },
    {
      "cell_type": "code",
      "source": [
        "retriever= db_connection.as_retriever(search_kwargs={'k':50})\n",
        "print(type(retriever))"
      ],
      "metadata": {
        "colab": {
          "base_uri": "https://localhost:8080/"
        },
        "id": "McKraiRtuh0n",
        "outputId": "1606040d-22cc-435e-f34e-77313c5b5729"
      },
      "execution_count": null,
      "outputs": [
        {
          "output_type": "stream",
          "name": "stdout",
          "text": [
            "<class 'langchain_core.vectorstores.base.VectorStoreRetriever'>\n"
          ]
        }
      ]
    },
    {
      "cell_type": "code",
      "source": [
        "check_response = retriever.invoke('jelaskan apa saja faktor risiko dominan untuk penyakit jantung koroner di Indonesia?')\n",
        "md(check_response[0].page_content)"
      ],
      "metadata": {
        "colab": {
          "base_uri": "https://localhost:8080/",
          "height": 81
        },
        "id": "D86a3o8ru8V8",
        "outputId": "081f456c-5c7b-4f65-bec1-dd5c75121593"
      },
      "execution_count": null,
      "outputs": [
        {
          "output_type": "execute_result",
          "data": {
            "text/plain": [
              "<IPython.core.display.Markdown object>"
            ],
            "text/markdown": "Berbagai \npenelitian telah berhasil mengidentifikasi faktor-\nfaktor risiko penyakit jantung koroner  antara lain \nherediter, usia, jenis kelamin, sosioekonomi, letak  \ngeografi, makanan tinggi lemak dan kalori, kurang \nmakan sayur buah, merokok, alkohol, aktifitas \nfisik kurang, hipertensi, obesitas, diabetes mellitus, \naterosklerosis, penyakit arteri perifer, stroke dan \ndislipidemia.8-11 Faktor risiko dominan penyakit \njantung koroner secara nasional belum ada."
          },
          "metadata": {},
          "execution_count": 105
        }
      ]
    },
    {
      "cell_type": "markdown",
      "source": [
        "# Prompt"
      ],
      "metadata": {
        "id": "f-bELBcdvoKR"
      }
    },
    {
      "cell_type": "code",
      "source": [
        "from langchain_core.messages import SystemMessage\n",
        "from langchain_core.prompts import ChatPromptTemplate, HumanMessagePromptTemplate\n",
        "\n",
        "chat_template = ChatPromptTemplate.from_messages([\n",
        "    SystemMessage(content='Anda adalah AI pintar yang dapat menjawab pertanyaan sesuai konteks yang diberikan terkait penyakit jantung koroner di Indonesia.'),\n",
        "    HumanMessagePromptTemplate.from_template('''jawab pertanyaan berikut berdasarkan konteks.\n",
        "konteks: {context}\n",
        "pertanyaan: {question}\n",
        "jawaban: '''),\n",
        "])\n"
      ],
      "metadata": {
        "id": "PPmFVd65vpVM"
      },
      "execution_count": null,
      "outputs": []
    },
    {
      "cell_type": "code",
      "source": [
        "from langchain_core.output_parsers import StrOutputParser\n",
        "output_parser= StrOutputParser()"
      ],
      "metadata": {
        "id": "8a2caWe7wFbQ"
      },
      "execution_count": null,
      "outputs": []
    },
    {
      "cell_type": "code",
      "source": [
        "def format_docs(docs):\n",
        "    return \"\\n\\n\".join(doc.page_content for doc in docs)\n",
        "\n",
        "formatted_docs= format_docs(chunks)\n",
        "md(formatted_docs)"
      ],
      "metadata": {
        "colab": {
          "base_uri": "https://localhost:8080/",
          "height": 1000
        },
        "id": "oDxJAlVlwII_",
        "outputId": "58f42dcf-8efa-4e1c-d5e6-9e307fd437f3"
      },
      "execution_count": null,
      "outputs": [
        {
          "output_type": "execute_result",
          "data": {
            "text/plain": [
              "<IPython.core.display.Markdown object>"
            ],
            "text/markdown": "Faktor Risiko Dominan Penyakit Jantung Koroner di Indonesia ... (Lannywati Ghani, Made Dewi Susilawati dan Harli Novriani )\n153\nFaktor Risiko Dominan Penyakit Jantung Koroner di Indonesia\nDOMINANT RISK FACTORS OF CORONARY HEART DISEASE IN INDONESIA\nLannywati Ghani, Made Dewi Susilawati dan Harli Novriani\n  Pusat Penelitian dan Pengembangan Sumber Daya dan Pelayanan Kesehatan\nJl.\n\nPercetakan Negara No.\n\n29 Jakarta 10560, Indonesia\nE - mail: lannywatighani@yahoo.com\n        Submitted : 5-9-2016,    Revised : 13-9-2016,    Revised : 14-9-2016,    Accepted : 23-9-2016\nAbstract\nCoronary heart disease is still a major cause of mortality and morbidity with great socio-economic \nimpact like stroke.\n\nCoronary heart disease is preventable by early detection and risk factors control.\n\nThis study aimed to identify dominant risk factors of coronary heart disease in Indonesia using \nNational Basic Health Survey 2013 data.\n\nData were analysed using SPSS 16 with complex sample.\n\nData were analysed using SPSS 16 with complex sample.\n\nA \ntotal of 722.329 respondent age ≥15 years old, consisting of 347.823 male and 374.506 female were \nanalyzed.\n\nPrevalence of coronary heart disease was 1.5 % (95% CI 1.4–1.5).\n\nSeveral factors were \nidentified as risk factors of coronary heart disease such as hypertension, mental disorder, diabetes \nmellitus, stroke, age ≥ 40 years old, smoking, female, low level of education, central obesity, and low \nlevel of social economic status with adjusted odds ratio range from 1.30 to 10.09.\n\nThe dominant risk \nfactors were hypertension, mental disorder, and diabetes mellitus.\n\nPromotion of healthy lifestyle and \nearly detection since early age need to be enhanced to minimize the risk factors as well as coronary \nheart disease.\n\nKey words : coronary heart disease, risk factor, basic health survey 2013.\n\nKey words : coronary heart disease, risk factor, basic health survey 2013.\n\nAbstrak\nPenyakit Jantung Koroner (PJK) masih merupakan penyebab kematian dan kesakitan utama yang \nberdampak secara sosioekonomi seperti juga stroke.\n\nPenyakit ini dapat dicegah dengan deteksi dini \ndan pengendalian faktor risiko.\n\nPenelitian ini bertujuan untuk mendapatkan faktor risiko dominan \npenderita jantung koroner di Indonesia dengan  menggunakan data sekunder dari Survei Riset \nKesehatan Dasar Indonesia tahun 2013.\n\nAnalisis data menggunakan SPSS 16 dengan c omplex \nsample.\n\nDari 722.329 responden usia ≥ 15 tahun didapat prevalensi penyakit jantung koroner sebesar \n1,5 % (95 % CI 1,4–1,5).\n\nHipertensi, gangguan mental emosional, diabetes melitus, stroke, usia ≥ \n40 tahun, kebiasaan merokok, jenis kelamin perempuan, tingkat pendidikan rendah, obesitas sentral, \ndan status sosial ekonomi rendah merupakan faktor risiko PJK dengan rasio odd berkisar dari 1,30 \nhingga 10,09.\n\nFaktor risiko dominan penyakit jantung koroner adalah hipertensi, gangguan mental \nemosional, dan diabetes melitus.\n\nUpaya promotif dan deteksi dini faktor risiko sejak usia dini perlu \nditingkatkan untuk memperkecil kejadian faktor risiko maupun penyakit jantung koroner.\n\nKata kunci : penyakit jantung koroner, faktor risiko, Riskesdas 2013.\n\nBuletin Penelitian Kesehatan, V ol.\n\n44, No.\n\n3, September  2016 : 153 - 164\n154\nPENDAHULUAN \n Penyakit jantung koroner (PJK) adalah \npenyakit yang disebabkan adanya plak yang \nmenumpuk di dalam arteri koroner yang mensuplai \noksigen ke otot jantung.\n\n1 Penyakit ini termasuk \nbagian dari penyakit kardiovaskuler yang paling \numum terjadi.\n\nPenyakit kardiovaskuler merupakan \ngangguan dari jantung dan pembuluh darah \ntermasuk stroke,  penyakit jantung rematik dan \nkondisi lainnya (WHO).2  \n Menurut statistik dunia, ada 9,4 juta \nkematian setiap tahun yang disebabkan oleh \npenyakit kardiovaskuler dan 45% kematian \ntersebut disebabkan oleh penyakit jantung koroner.\n\nDiperkirakan angka tersebut akan meningkat \nhingga 23,3 juta pada tahun 2030.3,4  \n Di Indonesia salah satu penyakit \nkardiovaskular yang terus menerus menempati \nurutan pertama adalah penyakit jantung koroner.\n\n5 \nMenurut survei Sample Registration System angka \nkematian penyakit jantung koroner 12,9% dari \nseluruh kematian.\n\n6 Prevalensi penyakit jantung \nkoroner berdasarkan diagnosis dokter yang \ndilakukan Riset Kesehatan Dasar (Riskesdas) 2013 \nsebesar 0,5% sedangkan berdasarkan diagnosis \ndokter atau gejala sebesar 1,5%.\n\nHasil Riskesdas ini \nmenunjukkan penyakit jantung koroner berada pada \nposisi ketujuh tertinggi Penyakit Tidak Menular \n(PTM) di Indonesia.7\n Penyakit jantung koroner (PJK) ini masih \nmerupakan masalah kesehatan yang penting dan \nberdampak secara sosio-ekonomi karena biaya \nobat-obatan yang cukup mahal, lamanya waktu \nperawatan dan pengobatan, serta pemeriksaan \npenunjang lain yang diperlukan dalam proses \npengobatan.\n\nUpaya pencegahan melalui deteksi \ndini faktor risiko dan upaya pengendaliannya sangat \npenting dilakukan.\n\nIdentifikasi faktor risiko Penyakit \njantung koroner (PJK) sangat bermanfaat untuk \nperencanaan intervensi pencegahan.\n\nBerbagai \npenelitian telah berhasil mengidentifikasi faktor-\nfaktor risiko penyakit jantung koroner  antara lain \nherediter, usia, jenis kelamin, sosioekonomi, letak  \ngeografi, makanan tinggi lemak dan kalori, kurang \nmakan sayur buah, merokok, alkohol, aktifitas \nfisik kurang, hipertensi, obesitas, diabetes mellitus, \naterosklerosis, penyakit arteri perifer, stroke dan \ndislipidemia.8-11 Faktor risiko dominan penyakit \njantung koroner secara nasional belum ada.\n\nAnalisis ini bertujuan untuk mendapatkan \nfaktor risiko dominan penyakit jantung koroner \ndi Indonesia.\n\nDiharapkan hasil analisis ini dapat \nbermanfaat sebagai bahan pertimbangan dalam \nupaya intervensi pencegahan melalui deteksi dini \ndan promosi kesehatan secara umum.\n\nBAHAN DAN METODE\n Penelitian ini merupakan analisis lanjut \ndari Riskesdas 2013, dimana data yang dianalisis \nadalah sampel berusia 15 tahun atau lebih.\n\nData  \ndikumpulkan dengan metode wawancara oleh \nenumerator yang telah dilatih.\n\nData  \ndikumpulkan dengan metode wawancara oleh \nenumerator yang telah dilatih.\n\nVariabel yang \ndianalisis yaitu usia, jenis kelamin, sosioekonomi, \ndemografi, dan gaya hidup seperti merokok, kurang \nkonsumsi sayur buah, kurang aktifitas fisik.\n\nSelain \nitu, ditanyakan pula apakah responden pernah \ndidiagnosis penyakit jantung koroner oleh tenaga \nkesehatan dan apakah menderita gejala penyakit \njantung koroner serta penyakit tidak menular \nlainnya.\n\nPemeriksaan fisik meliputi pengukuran \nantropometri dan tekanan darah.\n\nDisain penelitian \nadalah potong lintang ( cross sectional ) sesuai \nmetode Riskesdas 2013.7,11\n Sampel adalah data seluruh anggota rumah \ntangga (ART) berusia ≥ 15 tahun.\n\nData yang tidak \nlengkap dieksklusi.\n\nAnalisis  dilakukan pada sampel \nsejumlah 722.329 anggota rumah tangga terdiri dari \n347.823 laki-laki dan 374.506 perempuan.\n\nData karakteristik sosiodemografi, perilaku, \nhasil pengukuran, dan gambaran klinis presponden \nPenyakit jantung koroner (PJK) dianalisis \nmenggunakan complex sample  secara deskriptif, \ndilanjutkan dengan uji bivariat dan multivariat \n(analisis regresi logistik) untuk mendapatkan faktor \nrisiko dominan.\n\nData mentah ini pernah dianalisis untuk \nmencari faktor risiko dominan penderita stroke\n\n(analisis regresi logistik) untuk mendapatkan faktor \nrisiko dominan.\n\nData mentah ini pernah dianalisis untuk \nmencari faktor risiko dominan penderita stroke \ndi Indonesia.7,11,12 Pada penelitian ini yang akan \ndianalisis dari data mentah adalah Penyakit jantung \nkoroner (PJK) yang penyakitnya berbeda dengan \nStroke walaupun ada kemungkinan kesamaan \nfaktor risiko.\n\nPenyakit jantung koroner (PJK) \ndidefinisikan jika pernah didiagnosis menderita \nPJK (angina pektoris dan/atau infark miokard) oleh \ndokter atau belum pernah didiagnosis menderita \nPJK tetapi pernah  mengalami gejala/riwayat nyeri\n\nFaktor Risiko Dominan Penyakit Jantung Koroner di Indonesia ... (Lannywati Ghani, Made Dewi Susilawati dan Harli Novriani )\n155\ndi dalam dada/rasa tertekan berat/ tidak nyaman \ndi dada, nyeri/tidak nyaman di dada dirasakan di \ndada bagian tengah/dada kiri depan/menjalar ke \nlengan kiri, nyeri/tidak nyaman di dada dirasakan \nketika mendaki/naik tangga/berjalan tergesa-gesa \ndan nyeri/tidak nyaman di dada hilang ketika \nmenghentikan aktifitas/istirahat.\n\nDiabetes mellitus (DM) didefinisikan jika \npernah didiagnosis menderita kencing manis oleh \ndokter atau tidak pernah didiagnosis menderita \nkencing manis oleh dokter tetapi dalam satu bulan \nterakhir mengalami gejala sering lapar, sering haus \ndan sering buang air kecil dalam jumlah banyak, \ndan berat badan turun.\n\nStroke didefinisikan jika pernah didiagnosis \nmenderita penyakit stroke oleh tenaga kesehatan \n(dokter/perawat bidan) atau belum pernah \ndidiagnosis menderita penyakit stroke oleh nakes \ntetapi pernah mengalami secara mendadak keluhan \nkelumpuhan pada satu sisi tubuh atau kelumpuhan \npada satu sisi tubuh yang disertai kesemutan atau \nbaal satu sisi tubuh atau mulut menjadi mencong \ntanpa kelumpuhan otot mata atau bicara pelo  atau \nsulit bicara/komunikasi dan atau tidak mengerti \npembicaraan.\n\nHipertensi ditentukan dari hasil pengukuran \nyang merujuk kriteria JNC VII 2003, yaitu hasil \npengukuran tekanan darah sistolik ≥ 140 mmHg dan \natau tekanan darah diastolic ≥ 90 mmHg atau dari \nhasil diagnosis dokter, gejala dan riwayat minum \nobat hipertensi.\n\nTekanan darah didapatkan dari \nrata-rata hasil pengukuran 2-3 kali menggunakan \ntensimeter digital.\n\nObesitas didefinisikan mengikuti \nkriteria Indeks Masa Tubuh (IMT) > 25 (WHO, \nAsia  Pasifik).\n\nObesitas didefinisikan mengikuti \nkriteria Indeks Masa Tubuh (IMT) > 25 (WHO, \nAsia  Pasifik).\n\nDikatakan sebagai obesitas sentral \nbila lingkar perut > 90 cm pada laki-laki dan> 80cm \npada perempuan.\n\nStatus ekonomi dikategorikan memjadi 5 \nkuintil berdasarkan indeks kepemilikan.\n\nKuintil 1,2 \ndikategorikan status ekonomi rendah atau miskin \ndan kuintil 3,4,5 status ekonomi menengah keatas \natau tidak miskin.\n\nAkseptor KB hormonal adalah \nwanita usia subur (WUS) yang menggunakan alat \nKeluarga Berencana (KB) susuk, suntikan dan pil.\n\nKategori aktifitas fisik dalam Riskesdas 2013 \nmengacu pada kriteria WHO Global Physical \nActivity Questionnaire (WHO GPAQ) dan terbagi \nmenjadi 2 kategori yaitu aktifitas fisik aktif jika \nindividu melakukan aktifitas fisik berat atau sedang \natau kedua-duanya, sedangkan kriteria kurang aktif \njika individu tidak melakukan aktifitas fisik berat \natau sedang.\n\nGangguan mental emosional yaitu suatu \nistilah yang digunakan sejak Survei Kesehatan \nRumah Tangga (SKRT) 1995 untuk menilai status \nmental penduduk.\n\nInstrumen yang digunakan adalah \nSelf Reporting Questionnaire (SRQ) yang terdiri \ndari 20 butir pertanyaan.\n\nDikatakan mengalami \ngangguan mental emosional jika responden \nmenjawab minimal 6 atau lebih jawabanya.\n\nTitik \npotong profil lipid sesuai dengan kriteria NCEP-\nATP III ditentukan dari hasil parameter total \nkolesterol  < 200 mg/dl, HDL ≥ 40 mg/dl, LDL < \n100 mg/dl, dan trigliserida < 150 mg/dl.7,11\nHASIL\n Dari 722.329 data  responden berusia ≥ \n15 tahun di 33 provinsi di Indonesia didapatkan \nprevalensi penyakit jantung koroner secara \nnasional berdasarkan diagnosis dokter atau gejala \nsebesar 1,5%.\n\nTabel 1 menunjukkan karakteristik \nsampel dan prevalensi penyakit jantung koroner di \nIndonesia.\n\nTabel 1.\n\nTabel 1.\n\nKarakteristik Sampel Berdasarkan Sosio Demografi, Perilaku, Biologik, dan Prevalensi Penyakit \n               Jantung Koroner di Indonesia Tahun 2013\nKarakter Besar Sampel  Prevalensi PJK\n(N, %) (N, %) 95% CI\nJenis Kelamin (n=722.329)\n     Laki-laki 360.044 (49,8)  4.761 (1,3) (1,3 - 1,4)\n     Perempuan 362.285 (50,2)  5.819 (1,6) (1,5 - 1,7)\nKelompok Usia (tahun) (n=722.329)\n     15 - 24 167.006 (23,I) 1.098 (0,7) (0,6 - 0,7)\n     25 – 34 175.365 (24,3) 1.636(0,9) (0,9 - 1,0)\n     35 – 44 152.875 (21,2) 1.968(1,3) (1,2 -1,4)\n     45 -  54 112.846 (15,6) 2.322(2,1) (1,9 - 2,2)\n\nBuletin Penelitian Kesehatan, V ol.\n\n44, No.\n\n3, September  2016 : 153 - 164\n156\n     55 - 64 65.136 (9,0) 1.850(2,8) (3,7 – 3,0)\n     65 – 74 33.643 (4,6) 1.216(3,6) (3,3 – 3,9)\n     ≥ 75 15.458 (2,1)        490(3,2) (2,8 – 3,6)\nStatus perkawinan (n=722.329)\n    Belum menikah 174.309(24,1) 1.103(0,6) (0,6 – 07)\n    Menikah, hidup bersama 495.517(68,6) 8.098(1,6) (1,6 – 1,7)\n    Cerai hidup, pisah, cerai mati 52.503(7,3) 1.378(2,6) (2,4 – 2,8)\nPendidikan (n=722.329)\n    Tidak sekolah 40.786(5,646) 1.148(2,8) (2,6 – 3,1)\n    Tidak tamat SD 80.838(11,2) 1.826(2,3) (2,1 – 2,4)\n    Tamat SD 214.803(29,7) 3.639(1,7)  (1,6 –1,8)\n    Tamat SMP 153.107(21,2) 1.687(1,1) (1,0 – 1,2)\n    Tamat SMA 185.798(25,7) 1.776(1,0) (0,9 – 1,0)\n    Tamat PT/Akademik/Sederajat 46.996(6,5)        503(1,1) (0,9 – 1,2)\nPekerjaan (n=722.329)\n    Sekolah, sedang mencari kerja 66.569(9,2) 451(0,7) (1,8 – 2,0)\n    Bekerja 431.381(59,7) 5.828(1,3) (1,3 – 1,4)\n    Tidak bekerja 224.377(31,1) 4299(1,9) (0,6– 0,8)\nTempat tinggal (n=722.329)\n    Perkotaan 368.282(51,0) 5.083(1,4) (1,3 – 1,5)\n    Perdesaan 353.847(49,0) 5.496(1,5) (1,4 - 1,5)\nStatus ekonomi (n=722.329)\n    Terbawah 103.296 (14,3) 2.149(2,1) (1,9 – 2,2)\n    Menengah bawah 134.888(18,7) 2.185(1,6) (1,5 – 1,7)\n    Menengah 158.562(21,9) 2.211(1,4) (1.3 -  1,5)\n    Menengah atas 175.470(24,3) 2.257(1,3) (1,2 – 1,4)\n    Teratas 150.113(20,7) 1.778(1,2) (1,1 – 1,3)\nPola konsumsi sayur buah (n=722.329)\n    Tidak konsumsi 150.485(20,8) 2.590(1,7) (2,6 – 4,2)\n    1 – 2 porsi/hari 456.189(63,2) 6.171 (1,4) (1,3 -1,4)\n    3 – 4 porsi/hari 99.061(13,7) 1.551(1,5) (1,4 – 1,7)\n    ≥ 5 porsi 16594(2,3)        267(1,6) (1,3 – 1,9)\nAktifitas fisik (n=722.329)\n     Kurang 163.175 (22,6) 3.167(1,9) (1,8 – 2,1)\n     Cukup 559.154(77,4) 7.413 (1,3) (1,3 – 1,4)\nKonsumsi minuman berkafein selain\nKopi (n=722.329)\n     ≥ 1X/hari 42.798(5,9) 759(1,8) (1,6 – 2,0)\n     1-6X/minggu 92,625(12,8) 1.285(1,4) (1,2 – 1,5)\n     < 3X/bulan 586.906(81,3) 8.536(1,5) (1,4 – 1,5)\nKonsumsi minum kopi (n=722.329)\n      ≥ 1X/hari 235.400(32,6) 3.240(1,4) (1,4 – 1,5)\n      1-6X/minggu 131.497(18,2) 1.638(1,2) (1,1 – 1,4)\n      <3X/bulan 355.432(49,2) 5.701(1,6) (1,5 – 1,7)\nMerokok (n=722.329)\n      Tiap hari 201.084(27,8) 2.442(1,2) (1,1 – 1,3)\n      Kadang-kadang 40.456(5,6) 537(1,3) (1,2 – 1,5)\n      Mantan perokok 32.795(4,6) 1298(4,0) (3,6 – 4,3)\n      Tidak pernah 447.993(62,0) 6.302(1,4) (1,4 – 1,5)\n\nFaktor Risiko Dominan Penyakit Jantung Koroner di Indonesia ... (Lannywati Ghani, Made Dewi Susilawati dan Harli Novriani )\n157\nStatus gizi berdasarkan IMT (n=712.789)\n      Obesitas 174.879(24,6) 3.019(1,7) (1,6 – 1,8)\n      Berat badan lebih 117.961(16,5) 1.512(1,3) (1,2 – 1,4)\n      Kurus 92.963(13,0) 1.553(1,7) (1,5 – 1,8)\n      Normal 326.986((45,9) 4.189(1,3) (1,2 – 1,4)\nStatus gizi berdasarkan LP(n=688.504)\n      Obesitas sentral 183.158(26.6) 3.467(1,9) (1,8 – 2,0)\n      Tidak obesitas 505.346(73,4) 6.616(1,3) (1,3 – 1,4)\nGangguan mental emosional (n=722.329)\n      Ya 46.008(6,4) 3.786(8,2) (7,8 – 8,7)\n      Tidak 676.322(93,6) 6.794(1,0) (1,0 – 1,0)\nTekanan darah (n=722.329)\n      Hipertensi 62.943(8,7) 3.464(5,5) (5,2 – 5,8)\n      Normal 659.386(91,3) 7.155(1,1) (1,0 – 1,1)\nDiabetes Melitus(DM) (n=722.329)\n      Penyandang DM 15.221(2,1) 1.407(9,2) (8,5 – 0,1)\n      Bukan penyandang DM 707.107(97,9) 9.172(1,3) (1,2 – 1,5)\nStroke (n=722.329)\n      Ya 8.706(1,2) 760(8,7) (7,9 – 9,7)\n      Tidak 713.624(98,8) 9.820(1,4 ) (1,3 – 1,4)\nHasil Profil lipid (n=58.044)\n      Abnormal 49.683(85,6) 885(1,8) (1,6 – 2,0)\n      Dalam batas normal 8.362(14,4) 112(1,3) (1,0 - 1,8)\nRiwayat KB hormonal (n=126.387)\n      Akseptor KB hormonal 108.520(85,9) 1.245(1,1) (1,0 – 1,3)\n      Bukan Akseptor KB hormonal 17.867(14,1) 278(1,6) (1,3 – 1,9)\nKeterangan: n= besar sampel dengan weight\n           Tabel 1 menunjukkan secara karakteristik \nbesar sampel perempuan sedikit lebih banyak dari \nlaki-laki.\n\nPrevalensi penyakit jantung koroner \nterlihat lebih besar pada perempuan yaitu 1,6% \nsedangkan pada laki-laki hanya 1,3%.\n\nSebagian \nbesar responden sudah menikah/hidup bersama \ndan bekerja, namun pada kelompok penderita \njantung koroner prevalensi tidak bekerja \nlebih tinggi dibanding bekerja.\n\nKemungkinan \nresponden tidak bekerja karena penyakit jantung \nkoroner.\n\nPrevalensi responden cerai hidup/mati \natau pisah pada kelompok penderita jantung \nkoroner lebih tinggi dibanding hidup bersama \natau belum menikah, kemungkinan perceraian \nmeningkat akibat penyakit jantung koroner atau \nkarena usia responden sudah tua dan pasangan \nhidup sudah terlebih dahulu meninggal.\n\nResponden tinggal di perdesaan lebih sedikit dari \nperkotaan namun penderita jantung koroner lebih \nbanyak di perdesaan.\n\nPrevalensi penyakit jantung \nkoroner terbanyak pada usia 25-34 tahun, disusul \nkelompok usia 15-24 tahun dan terlihat  penyakit \njantung koroner sudah muncul pada kelompok \nusia muda sebesar 0,7% dan prevalensi meningkat \npada usia 45-54 tahun ke atas tertinggi pada usia \n65-74 tahun sebesar 3,6% di atas usia 75 tahun \nmenurun sedikit jadi 3,2%.\n\nPrevalensi penderita \njantung koroner lebih tinggi pada kelompok \ntidak sekolah dan tidak tamat SD dibandingkan \nkelompok tamat SD ke atas.\n\nJumlah responden \npada indeks kepemilikan menengah keatas \nlebih banyak dibanding yang lain, namun pada \nkelompok penderita jantung koroner prevalensi \npenderita jantung koroner paling tinggi pada \nkuintil indeks kepemilikan terbawah sebesar 2,1% \ndisusul menengah bawah yaitu sebesar 1,6%; \nkemungkinan akibat penyakit jantung koroner \nmaka status ekonomi menjadi menurun.\n\nPada umumnya responden makan sayur \nbuah 1-2 porsi saja, namun pada kelompok \npenderita jantung koroner prevalensi konsumsi \nsayur buah > 5 porsi lebih tinggi, kemungkinan \nperilaku meningkatkan konsumsi sayur buah \nakibat penyakit jantung koroner.\n\nJumlah\n\nBuletin Penelitian Kesehatan, V ol.\n\n44, No.\n\n3, September  2016 : 153 - 164\n158\nresponden yang beraktifitas cukup lebih tinggi \ndibanding aktifitas kurang, namun prevalensi \npenderita jantung koroner lebih tinggi pada yang \nberaktifitas kurang, kemungkinan akibat penyakit \njantung koroner tidak dapat melakukan aktifitas \nfisik.\n\nSebagian besar  responden tidak setiap \nminggu mengonsumsi minuman berkafein selain \nkopi.\n\nPrevalensi penyakit jantung koroner lebih \ntinggi dari pada yang mengkonsumsi minuman \nyang berkafein selain kopi setiap hari.\n\nPrevalensi \npenyakit jantung koroner pada responden yang \nmengkonsumsi kopi minimal tiap minggu hampir \nsama dengan yang mengkonsumsi kopi minimal \ntiap bulan.\n\nJumlah responden yang tidak pernah \nmerokok lebih tinggi dibanding yang merokok/\npernah,  namun yang merokok tiap hari cukup \ntinggi sebesar 27,8%.\n\nTerlihat prevalensi penderita \njantung koroner lebih tinggi pada mantan perokok \n(4%).\n\nTerlihat prevalensi penderita \njantung koroner lebih tinggi pada mantan perokok \n(4%).\n\nHal ini kemungkinan akibat penderita \njantung koroner menghentikan perilaku merokok.\n\nResponden dengan Indeks Massa Tubuh \nnormal lebih banyak, demikian juga dengan \nlingkar perut normal (tidak ada obesitas sentral).\n\nStatus gizi berdasarkan indeks massa tubuh \n(IMT) menunjukkan prevalensi penderita jantung \nkoroner lebih tinggi pada yang obesitas dan \nkurus.\n\nDemikian juga jika dilihat berdasarkan \nlingkar perut (LP) prevalensi PJK lebih tinggi \npada populasi dengan obesitas sentral.\n\nPrevalensi \nPJK lebih tinggi pada kelompok yang mengalami \ngangguan mental emosional, ada kemungkinan \npenyakit jantung koroner meningkatkan gangguan \nmental emosional atau sebaliknya.\n\nTerlihat prevalensi penderita jantung \nkoroner lebih tinggi pada yang hipertensi \ndibanding yang tidah hipertensi, lebih tinggi pada \ndiabetes mellitus dibanding yang tidak diabetes \nmellitus.\n\nDemikian juga prevalensi penderita \njantung koroner lebih tinggi pada penderita \nstroke dibanding tidak stroke, pada hasil profil \nlipid abnormal dibandingkan dengan dalam batas \nnormal.\n\nJumlah responden yang merupakan \nakseptor KB hormonal lebih banyak tetapi yang \nmenderita penyakit jantung koroner lebih banyak \npada bukan akseptor  KB hormonal.\n\nSelanjutnya dilakukan analisis bivariat \ndan berdasarkan Tabel 1 variabel yang dianggap \nkejadiannya dipicu akibat menderita penyakit \njantung koroner tidak dimasukkan.\n\nHal ini \nmerupakan salah satu keterbatasan metode potong \nlintang yang mengumpulkan data pada satu titik \nwaktu.\n\nTabel 2.\n\nTabel 2.\n\nHubungan Faktor Risiko dengan Kejadian Penyakit Jantung Koroner\nKarakteristik OR 95 % CI Signifikan (p)\nJenis kelamin\nPerempuan 1,22 1,17- 1,27 0,0001\nLaki-laki 1\nUsia\n≥ 40 tahun 2,72 2,61-2,83 0,0001\n< 40 tahun 1\nTingkat sosial ekonomi\nMiskin 1,42 1,36-1,48 0,0001\nTidak miskin 1\nPendidikan\nTidak sekolah – tamat SD 3,48 2,46-4,93 0,0001\nTamat SMP-Tamat SMA 1,94 1,37-2,76 0,0001\nTamat PT/Akademi/sederajat 1\nDiabetes melitus\n     Ya 7,75 7,31-8,22 0,0001\n     Tidak 1\nHipertensi\n     Ya 5,34 5,12-5,67 0,0001\n     Tidak 1\nStroke\n     Ya 6,86 6,35-7,40 0,0001\n\nFaktor Risiko Dominan Penyakit Jantung Koroner di Indonesia ... (Lannywati Ghani, Made Dewi Susilawati dan Harli Novriani )\n159\n     Tidak 1\nStatus gizi menurut IMT\nBerat badan lebih-obesitas 1,21 1,16-1,26 0,0001\nKurus 1,31 1,24-1,39 0,0001\nNormal 1\nStatus gizi berdasarkan LP\nObesitas sentral 1,45 1,40-1,52 0,0001\nTidak obesitas 1\nGangguan mental emosional\nYa 8,84 8,48-9,21 0,0001\nTidak 1\nKebiasaan merokok\n     Perokok/mantan perokok 1,11 1,07-1,15 0,0001\n     Bukan perokok 1\nKonsumsi kopi\n≥ 1 kali/hari 0,86 0,82-0,89 0,0001\n1-6 kali /minggu 0,77 0,73-0,82 0,0001\n ≤ 3 kali/bulan 1\nKonsumsi kafein selain kopi\n     Minimal tiap minggu 1,04 0,99-1,09 0,129\n     Minimal tiap bulan 1\nKonsumsi Buah-sayur\n      Tidak pernah konsumsi/hari 1,07 0,94-1,22 0,298\n      1-2 porsi/hari 0,84 0,74-0,95 0,006\n3-4 porsi/hari 0,97 0,85-1,11 0,688\n≥ 5 porsi/hari 1\nProfil lipid\nAbnormal 1,34 1,10-1,63 0,004\nNormal 1\nAktifitas Fisik\nKurang aktif 1,47 1,41-1,54 0,0001\nAktif 1\nAkseptor KB hormonal\nYa\nTidak\n0,73\n1\n0,64-0,84 0,0001\n Pada Tabel 2 menunjukkan bahwa jenis \nkelamin perempuan, usia ≥ 40 tahun, status \nekonomi rendah, tingkat pendidikan rendah, \ndiabetes mellitus, hipertensi, stroke, obesitas, \nkurus, gangguan mental emosional, kebiasaan \nmerokok, profil lipid abnormal dan aktifitas fisik \nyang kurang aktif  mempunyai hubungan bermakna \ndalam meningkatkan risiko  kejadian penyakit \njantung koroner.\n\nJenis kelamin perempuan \nberisiko 1,22 kali  terjadinya penyakit jantung \nkoroner  dengan p=0,0001, 95% CI 1,17-1,27.\n\nUmur pada analisis bivariat ini dikelompokkan \nmenjadi dua kelompok yang berusia kurang \ndari 40 tahun dan yang berusia sama atau lebih \ndari 40 tahun sesuai WHO tahun 2000 yang \nmenyatakan bahwa usia ≥ 40 tahun berisiko tinggi \nmengalami penyakit tidak menular.\n\nResponden \nberusia sama atau lebih dari 40 tahun berisiko \n2,72 kali dibandingkan yang berusia kurang dari \n40 tahun dengan p= 0,0001, 95% CI 2,61-2,83.\n\nStatus ekonomi rendah (miskin) pada kuintil 1 \ndan 2, lebih berisiko dibandingkan dengan status \nekonomi menengah ke atas (tidak miskin) pada \nkuintil 3,4 dan 5.\n\nResponden dengan pendidikan \nkurang tinggi lebih berisiko dibandingkan yang \nberpendidikan tinggi.\n\nDiabetes mellitus berisiko \n7,75 kali dibanding yang tidak.\n\nHipertensi \nberisiko 5,34 kali dibanding yang tidak.\n\nRiwayat \nstroke berisiko 6,86 kali dibanding yang tidak.\n\nRiwayat \nstroke berisiko 6,86 kali dibanding yang tidak.\n\nResponden dengan status gizi menurut Indeks\n\nBuletin Penelitian Kesehatan, V ol.\n\n44, No.\n\n3, September  2016 : 153 - 164\n160\nMassa Tubuh (IMT) dalam kategori berat badan \nlebih-obesitas berisiko 1,21 dibanding  normal, \nyang kurus berisiko 1,31 dibanding  normal.\n\nResponden dengan status gizi berdasarkan \nlingkaran perut (LP) dalam kategori obesitas \nsentral berisiko 1,45 kali dibanding yang tidak \nobesitas.\n\nGangguan mental emosional berisiko \n8,84 kali dibanding yang tidak.\n\nPerokok/mantan \nperokok berisiko 1,11 dibanding bukan perokok.\n\nKonsumsi kafein selain kopi dengan frekuensi \nminimal tiap minggu berisiko 1,04 dibanding \nyang minimal tiap bulan.\n\nProfil lipid abnormal \nmeningkatkan risiko 1,34 kali dibanding yang \nnormal.\n\nDemikian juga beraktifitas fisik kurang \nmeningkatkan risiko 1,47 kali dibanding  yang \nbaik.\n\nSelanjutnya dilakukan uji kompleks sampel \nlogistik regressi multivariat.\n\nSelanjutnya dilakukan uji kompleks sampel \nlogistik regressi multivariat.\n\nBerdasarkan tabel 2 \nmaka variabel dengan nilai p < 0,25 dimasukkan \ndalam analisis multivariat kecuali profil lipid \ndan akseptor KB hormonal karena pengambilan \nsampel darah pada saat Riskesdas 2013 dan \nWUS hanya subsampel.\n\nSetelah dilakukan uji \nconfounding dan interaksi didapatkan hasil akhir \nregresi logistik ganda pada Tabel 3.\n\nTabel 3.\n\nTabel 3.\n\nFaktor Risiko Penyakit Jantung Koroner pada Usia ≥ 15 Tahun\nVariabel ORadjusted 95  % C.I pMin Max\nTingkat sosial ekonomi\nTidak miskin 1\nMiskin 1,30 1,24 1,36 0,0001\nObesitas sentral\nTidak 1\nYa 1,45 1,33 1,58 0,0001\nPendidikan\nTamat SMP ke atas 1\nTidak sekolah-tamat SD 1,48 1,38 1,59 0,0001\nJenis kelamin\nLaki-laki 1\nPerempuan 1,61 1,43 1,81 0,0001\nKebiasaan merokok\nTidak 1\nYa 1,61 1,43 1,80 0,0001\nUsia \n< 40 tahun 1\n≥ 40 tahun 3,70 3,04 4,50 0,0001\nStroke\nTidak 1\nYa 3,73 3,14 4,44 0,0001\nDM\nTidak 1\nYa 8,43 7,14 9,95 0,0001\nGangguan mental emosional\nTidak 1\nYa 9,58 8,89 10,33 0,0001\nHipertensi\nTidak 1\n Ya 10,09 8,48 12,01 0,0001\n\nFaktor Risiko Dominan Penyakit Jantung Koroner di Indonesia ... (Lannywati Ghani, Made Dewi Susilawati dan Harli Novriani )\n161\nPEMBAHASAN\n Prevalensi penyakit jantung koroner pada \nstatus ekonomi rendah atau miskin sebedar 3,7 %.\n\nResponden dengan status sosial ekonomi miskin \nberisiko mengalami penyakit jantung koroner \n1,3 kali.\n\nIni sesuai dengan hasil penelitian Wong4 \nyang menunjukkan 80% kematian akibat penyakit \njantung terjadi di negara-negara berpenghasilan \nrendah dan menengah.\n\nRisiko responden dengan \ntingkat pendidikan rendah juga lebih tinggi \ndibandingkan pendidikan tinggi (OR 1,48 95%CI \n1,38-1,59).\n\nBerbagai penelitian berhasil membuktikan \nfaktor-faktor risiko antara lain obesitas, merokok, \nprofil lipid abnormal, dan lain-lain.\n\nThe Global \nBurden of Metabolic Risk Factors for Chronic \nDiseases Collaboration yang menggabungkan 97 \npenelitian kohor dengan lokasi penelitian tersebar \ndi seluruh dunia, juga membuktikan bahwa \nobesitas mempunyai hubungan yang signifikan \nterhadap penyakit jantung koroner antara obesitas \ndengan penyakit jantung koroner.\n\nPenelitian ini \nmenghasilkan pooled RR sebesar 1,69 (95% CI \n1,58-1,81).10\n Adanya hasil yang signifikan antara \nobesitas dengan penyakit jantung koroner adalah \nkarena obesitas dapat meningkatkan tekanan \ndarah, kadar trigliserida, kolesterol, resistensi \nglukosa, serta penggumpalan darah.\n\nPeningkatan \ntekanan darah membuat pembuluh darah rentan \nuntuk mengalami penebalan dan penyempitan.\n\nHal tersebut jika terjadi pada arteri koroner akan \nmenimbulkan penyakit jantung koroner.\n\nBegitu \npula, jika terjadi peningkatan kadar trigliserida \ndan kolesterol, hal ini akan memicu munculnya \nthrombosis plak pada pembuluh darah.\n\nHal ini juga \ndapat menimbulkan penyakit jantung koroner.\n\nDalam penelitian ini prevalensi penyakit \njantung koroner di Indonesia tahun 2013 menurut \njenis kelamin lebih tinggi pada perempuan \ndibanding laki-laki  yaitu 1,6% dibanding 1,3% \n(Tabel 1).\n\nPerempuan setelah memperhitungkan \nfaktor-faktor lain berisiko 1,61 kali (95% \nCI 1,43-1,81, p 0,0001) dibanding laki-laki.\n\nDikatakan sebelum menopause kemungkinan \nperempuan terkena penyakit jantung koroner \nlebih kecil dibanding laki-laki.\n\nNamun dengan \nmeningkatnya usia dan menurunnya estrogen \nsetelah menopause, risiko penyakit jantung \nmeningkat.\n\nDulu akibat pengaruh budaya dan cara \npandang kesadaran akan pentingnya kesehatan \njantung pada kaum perempuan masih rendah, \nmasyarakat sering beranggapan bahwa kesehatan \nsuami atau kaum laki-laki lebih penting.\n\nMasih \nbanyak pula profesional medis yang beranggapan \nbahwa penyakit kardiovaskuler adalah penyakit \nkaum laki-laki, sehingga penyakit kardiovaskuler \npada perempuan yang gejala-gejalanya tidak \nkhas, seringkali terlewatkan.\n\nFakta sekarang \nAmerican Heart Association (AHA) mengatakan \nlebih dari 1/3 perempuan dewasa menderita salah \nsatu bentuk penyakit kardiovaskuler terutama \npenyakit jantung koroner dan jumlah kematian \npada perempuan melebihi laki-laki.\n\nTahun 2012, \nsekitar 56% penyebab kematian perempuan adalah \npenyakit kardiovaskuler dan  terbanyak adalah \npenyakit jantung koroner.13,14,15\n Prevalensi perokok pada penyakit jantung \nkoroner  kalau tiap hari  merokok 1,2%,  kadang-\nkadang merokok 1,3% dan mantan perokok  4%.\n\nMerokok juga dibagi 2 kelompok yaitu perokok/\nmantan prokok dan bukan perokok.\n\nMerokok \nsetelah dikontrol dengan faktor-faktor lain berisiko \n1,61 kali (95% CI 1,43-1,80).\n\nMerokok \nsetelah dikontrol dengan faktor-faktor lain berisiko \n1,61 kali (95% CI 1,43-1,80).\n\nIni sesuai dengan \npenelitian yang dilakukan oleh Rachel R Huxlley \n& Mark Woodward melakukan penelitian meta-\nanalisis meliputi penelitian kohor yang dilakukan \ndi seluruh dunia.\n\nPenelitian tersebut membuktikan \nbahwa orang yang merokok memiliki risiko lebih \nbesar untuk menderita penyakit jantung koroner \ndengan pooled RR sebesar 1,25 (95%CI 1.12-\n1.39, p<0,0001).16 \n Menurut  World   Heart  Federation    tembakau \nyang dikandung dalam rokok dapat menyebabkan \npenurunan kadar oksigen yang dialirkan oleh\n\n1.39, p<0,0001).16 \n Menurut  World   Heart  Federation    tembakau \nyang dikandung dalam rokok dapat menyebabkan \npenurunan kadar oksigen yang dialirkan oleh \ndarah dan menyebabkan darah cenderung mudah \nmenggumpal.\n\nGumpalan darah yang terbentuk di \narteri ini dapat menyebabkan penyakit jantung \nkoroner dan juga  stroke serta kematian mendadak.\n\nLiteratur lain dari Heart Foundation menyatakan \nbahwa tembakau memiliki efek patofisiologi \nterhadap jantung, sistem pembekuan darah, dan \nmetabolisme lipoprotein.\n\nMerokok meningkatkan \npembentukan plak koroner dan mendorong \nterjadinya thrombosis koroner.\n\nMerokok juga \ndapat meningkatkan kebutuhan oksigen oleh otot \njantung dan menurunkan kemampuan darah untuk \nmengangkut oksigen.9  \n Berdasarkan kelompok usia, didapatkan\n\nBuletin Penelitian Kesehatan, V ol.\n\n44, No.\n\n3, September  2016 : 153 - 164\n162\nresponden yang berusia ≥  40 tahun  berisiko \n2,72 kali dibanding < 40 tahun (tabel 2).\n\nSetelah \ndikontrol dengan variable lain risiko usia ≥  40 \ntahun meningkat menjadi 3,70 kali (95% CI 3,04 \n– 4,50, p 0,0001).\n\nUsia merupakan faktor risiko \npenyakit jantung koroner dimana penambahan \nusia akan meningkatkan risiko terjadinya  \npenyakit jantung koroner.\n\nSemakin tua usia maka \nsemakin besar timbulnya plak yang menempel \ndi dinding dan menyebabkan gangguan aliran \ndarah yang melewatinya.\n\nPenelitian Donald di \nRSU Pirngadi di Medan menunjukkan hasil \nyang sama yaitu penyakit jantung koroner \nterdapat lebih banyak pada kelompok usia ≥ 40 \ntahun.17 Faktor usia terbukti berhubungan dengan \nkematian akibat penyakit jantung koroner.\n\nTanda \ndan gejala penyakit jantung koroner banyak \ndijumpai pada individu-individu dengan usia \nyang lebih tua.\n\nFaktor usia juga berhubungan \ndengan kadar kolesterol yaitu kadar kolesterol \ntotal akan meningkat dengan bertambahnya \numur.\n\nKandungan lemak berlebihan dalam darah \npada hiperkolesterolemia dapat menyebabkan \npenimbunan kolesterol pada dinding pembuluh \ndarah sehingga pembuluh darah akan menyempit \ndan akibatnya tekanan darah akan meningkat dan \nterjadilah penyakit jantung koroner.18  Stroke juga \nterlihat  merupakan salah satu faktor risiko yang \ndominan.\n\nPrevalensi penyakit jantung koroner \npada stroke 8,7% (tabel 1) dan setelah dikontrol \ndengan faktor-faktor lain, stroke meningkatkan \nrisiko penyakit jantung koroner 3,73 kali (95% CI \n3,14 - 4,44) dibandingkan tanpa stroke.\n\nDikatakan \nStroke selain merupakan salah satu dari penyakit \nkardiovaskuler juga merupakan faktor risiko dari \npenyakit kardiovaskuler lainnya.\n\n9 Sebaliknya \npenyakit jantung koroner juga merupakan faktor \nrisiko dari stroke dengan OR 3,13 (95% 2,72 - \n3,60).12\n Terlihat juga diabetes melitus merupakan \nsalah satu faktor risiko yang dominan.\n\nPrevalensi \npenyakit jantung koroner pada diabetes melitus \n9,2 % (Tabel 1) dan setelah  dikontrol dengan \nfaktor-faktor lain, berisiko 8,43 kali (95% CI \n7,14-9,95) dibandingkan tidak diabetes melitus.\n\nHasil analisis data Riskesdas 2007 menunjukkan \ndiabetes melitus meningkatkan risiko penyakit \njantung, termasuk penyakit jantung koroner, \nsebesar 4,06 kali (95% CI 3,79-4,35) dibandingkan \nyang tidak diabetes melitus.19 Menurut American \nHeart Association pada Mei 2012, paling kurang \n65% penderita diabetes melitus mengakibatkan \npenyakit jantung atau stroke.\n\nSelain itu, orang \ndewasa yang menderita diabetes melitus berisiko 2 \nsampai 4 kali lebih besar  terkena penyakit jantung  \ndari pada orang yang tidak menderita diabetes \nmellitus.20,21 Orang dengan diabetes cenderung \nlebih cepat mengalami degenerasi jaringan dan \ndisfungsi dari endotel sehingga timbul proses \npenebalan membrane basalis dari kapiler dan \npembuluh darah arteri koronaria sehingga  terjadi \npenyempitan aliran darah  ke jantung.22 \n Dengan adanya resistensi glukosa, \nmaka glukosa dalam darah akan meningkat dan \nhal ini akan meningkatkan kekentalan darah.\n\nKecenderungan untuk terjadinya aterosklerosis \npun meningkat dan dapat mengakibatkan \nterjadinya penyakit jantung koroner.\n\nPrevalensi gangguan mental emosional \npada penyakit jantung koroner 8,2%, setelah \ndikontrol dengan faktor-faktor lain, berisiko \ndengan OR 9,58 kali (95% CI 8,89-10,33).\n\nGangguan mental emosional di sini termasuk \ndepresi dan stress.\n\nGangguan mental emosional di sini termasuk \ndepresi dan stress.\n\nWHO memprediksi pada tahun \n2030, depresi akan mengakibatkan disabilitas \npada penyakit kronis termasuk penyakit jantung \nkronis.\n\nDepresi didentifikasi sebagai masalah \nutama yang berdiri sendiri dan merupakan faktor \nrisiko  mayor penyebab disabilitas pada penyakit \nkronis.\n\nDepresi meningkatkan angka morbiditas \ndan mortalitas penyakit seperti kanker, diabetes, \npenyakit jantung, dan stroke.\n\nJuga termasuk faktor \ngaya hidup yang buruk seperti merokok, kurang \naktivitas fisik, diet yang salah dan mekanisme\n\ndan mortalitas penyakit seperti kanker, diabetes, \npenyakit jantung, dan stroke.\n\nJuga termasuk faktor \ngaya hidup yang buruk seperti merokok, kurang \naktivitas fisik, diet yang salah dan mekanisme \nbiologis.23  Penelitian lain menunjukkan bahwa \npada sebagian orang, yakni mereka yang depresi \ndan terisolasi secara sosial, atau mereka yang \ntidak memiliki dukungan sosial yang berkualitas \nberisiko tinggi terkena penyakit jantung koroner.24 \n Prevalensi penyakit jantung koroner \npada yang hipertensi 5,5%.\n\nResponden dengan \nhipertensi berisiko mengalami penyakit jantung \nkoroner 10,09 kali (95% CI 8,48-12,01) \ndibandingkan dengan yang tidak hipertensi.\n\nPenelitian Townsend tahun 2012 membuktikan \n50% penyakit jantung koroner di negara \nberkembang terjadi disebabkan oleh hipertensi.\n\nIni \nmenunjukkan hipertensi adalah salah satu faktor \nrisiko utama terjadinya penyaki jantung koroner.25 \nSementara kejadian hipertensi di Indonesia\n\nFaktor Risiko Dominan Penyakit Jantung Koroner di Indonesia ... (Lannywati Ghani, Made Dewi Susilawati dan Harli Novriani )\n163\nmenurut WHO sebesar 42,7% pada laki-laki dan \n39,2 % pada wanita.26 Hipertensi tidak terkontrol \ncenderung mengakibatkan komplikasi lain \nseperti stroke, ateroslerosis, aneurisma, sindroma \nmetabolik, penyakit ginjal.\n\nPenyakit jantung \nkoroner juga mempunyai komplikasi-komplikasi \ntersendiri seperti aritmia, gagal jantung kongestif, \ninfark miokardial, dan kematian.\n\n18 Ini berarti \npasien penyakit jantung koroner yang disertai \nhipertensi harus diberi perhatian yang lebih baik \nkarena pasien ini mendapat komplikasi dari \nkedua penyakit tersebut.\n\nOleh karena itu sangat \ndianjurkan membuat penelitian mengenai berapa \nbesar jumlah pasien penyakit jantung koroner \nyang disertai dengan hipertensi dan meneliti \nkarakteristik hipertensi jadi pasien penyakit \njantung koroner.\n\nHasil analisis ini menunjukkan faktor \nrisiko dominan yang berpengaruh terhadap \npenyakit jantung koroner adalah dari yang \nterbesar sampai terkecil  kekuatan hubungannya \nadalah hipertensi, gangguan mental emosional, \ndiabetes mellitus, stroke, umur ≥ 40 tahun, riwayat \nkebiasaan merokok, jenis kelamin perempuan, \ntingkat pendidikan tidak sekolah-tamat SD, \nobesitas sentral, dan tingkat sosial ekonomi miskin \natau rendah.\n\nKESIMPULAN\n Faktor risiko penyakit jantung koroner \nadalah hipertensi, gangguan mental emosional, \ndiabetes melitus, stroke, usia ≥ 40 tahun, kebiasaan \nmerokok, perempuan, tingkat pendidikan rendah, \nobesitas sentral, dan tingkat sosial ekonomi rendah \ndengan ORadjusted berkisar dari 1,30 hingga 10,09.\n\nFaktor risiko dominan penyakit jantung koroner \ndi Indonesia adalah hipertensi, gangguan mental \nemosional, dan diabetes melitus.\n\nKETERBATASAN\n Hasil analisis dan kesimpulan disampaikan \ndengan keterbatasan sebagai berikut: desain \npenelitian adalah potong lintang sehingga \nkurang kuat untuk menyatakan suatu hubungan \nsebab akibat.\n\nPenyakit jantung koroner, diabetes \nmellitus, dan stroke didefinisikan menurut hasil \nwawancara bukan menurut hasil pemeriksaan \nfisik dan penunjang.\n\nUCAPAN  TERIMA  KASIH\n Kami mengucapkan terima kasih kepada \nKepala Balitbang Kesehatan RI, Kepala Pusat \nPenelitian dan Pengembangan Sumber Daya dan \nPelayanan Kesehatan,  tim riset kesehatan dasar \n(RISKESDAS) 2013  sehingga kami memperoleh \ndata-data yang bisa dianalisis lebih lanjut.\n\nUcapan \nterima kasih kami juga kepada semua pihak yang \ntelah membantu dan membimbing sehingga artikel \ndapat diselesaikan.\n\nDAFTAR RUJUKAN\n1.\n\nNational Institute of Health( NIH).\n\nAbout health \ntopics [cited 2016 May 26].\n\nAvailable from: \nhttp://www.nhbli.nih.gov//health-topics/topics/\ncad\n2. WHO 2013 About  Cardiovascular diseases.\n\nWorld Health OrganizLation.\n\nGeneve.\n\n[cited \n2016 Apr 26].\n\nAvailable from: http://www.who.\n\nint/cardiovascular_diseases/about_cvd/en/\n3.\n\nCardiovascular Disease [cited 2015 Sep 18].\n\nAvailable from: http://www.who.int/cardiovas-\ncular_ diseases/en/.\n\n4.\n\nWong,N.D.(2014).\n\nEpidemiological studies of \nCHD and the evolution of preventive cardiology, \nHeart Diseases Prevention Program, Division \nof Cardiology, University of California, \nIrvine, C240 Medical Sciences.\n\nUniversity of \nCalifornia, Irvine,CA 92697, USA.ndwong@\nuci.edu V olume 11:276-289\n5.\n\nCitrakesumasari.\n\nModel Prediksi Suspek \nPenyakit Jantung Koroner pada individu dan \nMasyarakat di Indonesia [disertasi].\n\nMakassar: \nHasanuddin Univ.;2009.\n\n6.\n\nMOH,National Institut of Health Research \nand Development, Center for Community \nEmpowerment, Health Policy and Humanites \n2015.\n\nIndonesia: Sample Registration System \n2014.\n\nNIHRD Library Cataloguing in \nPublication Data.\n\n7.\n\nBadan Penelitian dan Pengembangan Kesehatan.\n\nNIHRD Library Cataloguing in \nPublication Data.\n\n7.\n\nBadan Penelitian dan Pengembangan Kesehatan.\n\nPokok-Pokok Hasil Riskesdas Indonesia tahun \n2013.\n\nJakarta: Lembaga Penerbit Balitbangkes; \n2014.\n\n8.\n\nGlobal Atlas on Cardiovascular Disease \nPrevention and Control.\n\nMendis S, Puska P,  \nNorrving B editors  World Health Organization\n\n2013.\n\nJakarta: Lembaga Penerbit Balitbangkes; \n2014.\n\n8.\n\nGlobal Atlas on Cardiovascular Disease \nPrevention and Control.\n\nMendis S, Puska P,  \nNorrving B editors  World Health Organization  \nin Collaboration with the World Heart Federation \nand World Stroke Organization, Geneve; 2011.\n\nBuletin Penelitian Kesehatan, V ol.\n\n44, No.\n\n3, September  2016 : 153 - 164\n164\n9.\n\nCardiovascular Disease Risk Factor: [cited  \n2015 Sep 18].\n\nAvailable from: http://www.\n\nworld-heart-federation.org/fileadmin/\nuser_upload/documents/Fact_sheets/2012/\nPressBackgrounderApril2012RiskFactors pdf.\n\n10.\n\nLu Y , Hajifathalian K, Ezzati M, Woodward \nM, Rimm EB, Danaei G. Metabolic mediators \nof the effects of body-mass index, overweight, \nand obesity on coronary heart disease and \nstroke: a pooled analysis of 97 prospective \ncohorts with 1,8 million participants.\n\nLancet.\n\n2014;383(9921):970-83.\n\n11.\n\nBadan Penelitian dan Pengembangan Kesehatan \nDepartemen Kesehatan RI.\n\nRiset Kesehatan \nDasar 2013.\n\nPedoman Pengisian Kuesioner.\n\nJakarta: Badan Penelitian dan Pengembangan \nKesehatan Kementerian Kesehatan RI; 2013.\n\n12.\n\nGhani L, Mihardja LK, Delima.\n\nFaktor risiko \ndominan penderita stroke di Indonesia.\n\nBuletin \nPenelitian Kesehatan.\n\n2016; 44(1): 49-58.\n\n13.\n\nLloyd Jones DM.\n\nBuletin \nPenelitian Kesehatan.\n\n2016; 44(1): 49-58.\n\n13.\n\nLloyd Jones DM.\n\nCardiovasculer risk prediction: \nbasic concepts, current status and future \ndirections.\n\nCirculation.\n\n2010;121:1768-1777.\n\n14.\n\nGreenlan P, Alpert JS, Biller GA, Benyamin \nEJ, Budoff MJ, Fayad ZA,etal.\n\nACCF/AHA.\n\nGuidelines for assessment For Cardiovaskuler \nrisk in asymptomatic adults: A report of the \nAmerican College of Cardiology Foundation/ \nAmerican Heart Association Task Force on \npractice guidelines.\n\nJ Am Coll Cardio  2010; \n56(25): e50-103.\n\n15.\n\nSalam T, Watson KE.\n\nPredictor of cardiovascular \nrisk in women.\n\nWomens Health 2013; 9(5): 491-\n498.\n\n16.\n\nHuxley RR, Woodward M. Cigarette smoking as \na risk factor for coronary heart disease in women \ncompared with men: a systematic review and \nmeta-analysis of prospective cohort studies.\n\nThe \nLancet.\n\n2011; 378(9799):1297-1305.\n\n17.\n\nThe \nLancet.\n\n2011; 378(9799):1297-1305.\n\n17.\n\nNababan D. Hubungan faktor risiko dan \nkarakteristik penderita dengan kejadian \npenyakit jantung koroner  di RSU dr Pirngadi \nMedan tahun; 2008 (tesis).\n\nMedan.\n\nUniversitas \nSumatera Utara, 2008.\n\n18.\n\nKumar P., 2012.\n\nCoronary Artery Disease \nClinical Medicine Eight Edition, International \nEdition, Spain.\n\n723-724.\n\n19.\n\nDelima, Mihardja L, Siswoyo H. Prevalensi dan \nfaktor determinan penyakit jantung di Indonesia.\n\nBuletin Penelitian Kesehatan.\n\n2009; 37(3): 142-\n159.\n\n20.\n\nNational Diabetes Education Program (NDEP).\n\nThe Link Between Diabetes and Cardiovascular \ndisease  [Cited 2012 Oct 31 Oct) .\n\nAvailable from \nhttp://indep.nih.gov/media/CVD FactSheet pdf.\n\n21.\n\nShahab A. Komplikasi klinik DM penyakit \njantung koroner.\n\nDalam Sudyo AW, Setiyohadi \nB, Alwi I, Simadibrata KM, Setiati S,editor \n(penyunting).\n\nBuku Ajar Ilmu Penyakit Dalam \nJilid III Edisi ke -4.\n\nJakarta Departemen Ilmu \nPenyakit Dalam FKUI; 2007.\n\n22.\n\nJakarta Departemen Ilmu \nPenyakit Dalam FKUI; 2007.\n\n22.\n\nLewis, at al, Medical Surgical Nursing: \nAssesment and Management of Clinical \nProblems.\n\nSeven Edution.\n\nvolume 2.\n\nMosby \nElsevier;2011 \n23.\n\nBoris  V , William DR. and Rahn K. 2013.\n\nDepression and Chronic Diseases.\n\nIt is time \nfor a synergistic.\n\nMental Health and Primary \ncare approud Prime Care  Companion CNS \nDiscord.15 (2):PCC 12r01468.\n\n24.\n\nLippi G.Montagnana M, Favaloro EJ, Franchini \nM. Mental depression and Cardiovascular \ndisease.Amultceted, bidirectional association.\n\nSemin Thronb Hemost 2009; 35: 325-336.\n\n25.\n\nTownsend,N.\n\nMedical Risk Faktor Coronary \nHeart Statistics Acomoendium of Health \nStatistic.\n\nDepartement of Health.\n\nPublic, \nUniversity Oxford;2013.\n\n26.\n\nWorld Health Organization, WHO, 2013.Car -\ndiovascular Diseases.\n\n[Cited 2016 Mar 16].\n\nAvailable from:http://www.who.int/mediacen -\ntre/factsheds/fs317/en"
          },
          "metadata": {},
          "execution_count": 108
        }
      ]
    },
    {
      "cell_type": "code",
      "source": [
        "from langchain_core.runnables import RunnablePassthrough\n",
        "rag_chain = (\n",
        "    {\"context\": retriever | format_docs, \"question\": RunnablePassthrough()}\n",
        "    | chat_template\n",
        "    | chat_model\n",
        "    | output_parser\n",
        ")"
      ],
      "metadata": {
        "id": "v1da4yFIwctd"
      },
      "execution_count": null,
      "outputs": []
    },
    {
      "cell_type": "markdown",
      "source": [
        "# Query"
      ],
      "metadata": {
        "id": "OZ6I-tvwhKjV"
      }
    },
    {
      "cell_type": "code",
      "source": [
        "question = input('Question: ')\n",
        "response = rag_chain.invoke(question)\n",
        "md(response)"
      ],
      "metadata": {
        "colab": {
          "base_uri": "https://localhost:8080/",
          "height": 139
        },
        "id": "QoodoMunwntP",
        "outputId": "eefe4f3f-e74e-4e3e-b9fd-4159756fea46"
      },
      "execution_count": null,
      "outputs": [
        {
          "name": "stdout",
          "output_type": "stream",
          "text": [
            "Question: apa gejala jantung koroner\n"
          ]
        },
        {
          "output_type": "execute_result",
          "data": {
            "text/plain": [
              "<IPython.core.display.Markdown object>"
            ],
            "text/markdown": "Berdasarkan konteks yang diberikan, gejala penyakit jantung koroner yang disebutkan adalah:\n\n*   **Nyeri/rasa tertekan berat/tidak nyaman di dada.**\n*   **Nyeri/tidak nyaman di dada dirasakan di dada bagian tengah/dada kiri depan/menjalar ke lengan kiri.**\n*   **Nyeri/tidak nyaman di dada dirasakan ketika mendaki/naik tangga/berjalan tergesa-gesa.**\n*   **Nyeri/tidak nyaman di dada hilang ketika menghentikan aktivitas/istirahat.**"
          },
          "metadata": {},
          "execution_count": 110
        }
      ]
    }
  ]
}